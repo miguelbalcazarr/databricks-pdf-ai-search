{
 "cells": [
  {
   "cell_type": "markdown",
   "metadata": {
    "application/vnd.databricks.v1+cell": {
     "cellMetadata": {
      "byteLimit": 2048000,
      "rowLimit": 10000
     },
     "inputWidgets": {},
     "nuid": "e2fe28e3-fb19-43fd-9ec6-8f2517e49368",
     "showTitle": false,
     "tableResultSettingsMap": {},
     "title": ""
    }
   },
   "source": [
    "## Variables"
   ]
  },
  {
   "cell_type": "code",
   "execution_count": 0,
   "metadata": {
    "application/vnd.databricks.v1+cell": {
     "cellMetadata": {
      "byteLimit": 2048000,
      "rowLimit": 10000
     },
     "inputWidgets": {},
     "nuid": "f309baa0-639e-4adb-b9ce-375912e26d69",
     "showTitle": false,
     "tableResultSettingsMap": {},
     "title": ""
    }
   },
   "outputs": [],
   "source": [
    "def variables_globales():\n",
    "    variables = {\n",
    "        \"container\": dbutils.secrets.get(\"scope-mbc\", \"secret-env-container\"),\n",
    "        \"storage_account\": dbutils.secrets.get(\"scope-mbc\", \"secret-env-storage-account\"),\n",
    "        \"path_base\": f\"abfss://{dbutils.secrets.get('scope-mbc', 'secret-env-container')}@{dbutils.secrets.get('scope-mbc', 'secret-env-storage-account')}.dfs.core.windows.net\"\n",
    "    }\n",
    "\n",
    "    return variables\n"
   ]
  },
  {
   "cell_type": "markdown",
   "metadata": {
    "application/vnd.databricks.v1+cell": {
     "cellMetadata": {
      "byteLimit": 2048000,
      "rowLimit": 10000
     },
     "inputWidgets": {},
     "nuid": "019a569a-ef18-4706-97b0-e9b1ed1fb405",
     "showTitle": false,
     "tableResultSettingsMap": {},
     "title": ""
    }
   },
   "source": [
    "## Librerias"
   ]
  },
  {
   "cell_type": "code",
   "execution_count": 0,
   "metadata": {
    "application/vnd.databricks.v1+cell": {
     "cellMetadata": {},
     "inputWidgets": {},
     "nuid": "844840de-02cb-4901-87c4-f6903c9e2c0b",
     "showTitle": false,
     "tableResultSettingsMap": {},
     "title": ""
    }
   },
   "outputs": [],
   "source": [
    "import numpy, spacy, es_core_news_sm, PyPDF2\n",
    "import os, json\n",
    "from spacy.cli import download as spacy_download\n",
    "from langdetect import detect"
   ]
  },
  {
   "cell_type": "code",
   "execution_count": 0,
   "metadata": {
    "application/vnd.databricks.v1+cell": {
     "cellMetadata": {
      "byteLimit": 2048000,
      "rowLimit": 10000
     },
     "inputWidgets": {},
     "nuid": "942df2d7-308d-498d-80d3-2a52407965f4",
     "showTitle": false,
     "tableResultSettingsMap": {},
     "title": ""
    }
   },
   "outputs": [],
   "source": [
    "# %pip uninstall -y numpy spacy es_core_news_sm PyPDF2 langdetect"
   ]
  },
  {
   "cell_type": "code",
   "execution_count": 0,
   "metadata": {
    "application/vnd.databricks.v1+cell": {
     "cellMetadata": {
      "byteLimit": 2048000,
      "rowLimit": 10000
     },
     "inputWidgets": {},
     "nuid": "5f4629d2-77f5-471c-bd2f-b3cc3693e34e",
     "showTitle": false,
     "tableResultSettingsMap": {},
     "title": ""
    }
   },
   "outputs": [],
   "source": [
    "# dbutils.library.restartPython()"
   ]
  },
  {
   "cell_type": "code",
   "execution_count": 0,
   "metadata": {
    "application/vnd.databricks.v1+cell": {
     "cellMetadata": {
      "byteLimit": 2048000,
      "rowLimit": 10000
     },
     "inputWidgets": {},
     "nuid": "1441802e-38e6-4983-aa72-4ba6b36aac13",
     "showTitle": false,
     "tableResultSettingsMap": {},
     "title": ""
    }
   },
   "outputs": [],
   "source": [
    "# %pip install numpy==1.24.3\n",
    "# %pip install spacy==3.5.0\n",
    "# %pip install es-core-news-sm==3.1.0\n",
    "# %pip install PyPDF2==3.0.1\n",
    "# %pip install langdetect==1.0.9"
   ]
  },
  {
   "cell_type": "code",
   "execution_count": 0,
   "metadata": {
    "application/vnd.databricks.v1+cell": {
     "cellMetadata": {
      "byteLimit": 2048000,
      "rowLimit": 10000
     },
     "inputWidgets": {},
     "nuid": "34ddbfe6-a98e-4487-b3a9-b0417c28ea6b",
     "showTitle": false,
     "tableResultSettingsMap": {},
     "title": ""
    }
   },
   "outputs": [],
   "source": [
    "# dbutils.library.restartPython()"
   ]
  },
  {
   "cell_type": "markdown",
   "metadata": {
    "application/vnd.databricks.v1+cell": {
     "cellMetadata": {},
     "inputWidgets": {},
     "nuid": "9b31629a-abcb-47a7-8982-9a05e6e28600",
     "showTitle": false,
     "tableResultSettingsMap": {},
     "title": ""
    }
   },
   "source": [
    "## Funciones"
   ]
  },
  {
   "cell_type": "code",
   "execution_count": 0,
   "metadata": {
    "application/vnd.databricks.v1+cell": {
     "cellMetadata": {},
     "inputWidgets": {},
     "nuid": "f663fba0-e427-4689-9764-55a6d617e7e0",
     "showTitle": false,
     "tableResultSettingsMap": {},
     "title": ""
    }
   },
   "outputs": [],
   "source": [
    "def chunk_text(text: str, max_len: int = 5000, overlap: int = 500) -> list[str]:\n",
    "    \"\"\"\n",
    "    Divide un texto en fragmentos de longitud controlada, con solapamiento.\n",
    "\n",
    "    Parámetros:\n",
    "    -----------\n",
    "    text : str\n",
    "        Texto completo que se desea trocear.\n",
    "    max_len : int, opcional (por defecto=5000)\n",
    "        Longitud máxima de cada fragmento en número de caracteres.\n",
    "    overlap : int, opcional (por defecto=500)\n",
    "        Número de caracteres que se repetirán entre fragmentos\n",
    "        consecutivos para conservar contexto.\n",
    "\n",
    "    Retorna:\n",
    "    --------\n",
    "    list[str]\n",
    "        Lista de fragmentos de texto, cada uno con hasta `max_len`\n",
    "        caracteres y con `overlap` caracteres de solapamiento entre\n",
    "        fragmentos adyacentes.\n",
    "\n",
    "    Ejemplo:\n",
    "    --------\n",
    "    >>> text = \"abcdefghijklmnopqrstuvwxyz\"\n",
    "    >>> chunk_text(text, max_len=10, overlap=3)\n",
    "    ['abcdefghij', 'hijklmnopq', 'mnopqrstu', 'rstuvwxyz']\n",
    "    \"\"\"\n",
    "    chunks: list[str] = []\n",
    "    start = 0\n",
    "    while start < len(text):\n",
    "        # Extrae un trozo de tamaño max_len\n",
    "        chunk = text[start : start + max_len]\n",
    "        chunks.append(chunk)\n",
    "        # Avanza, dejando `overlap` caracteres de solapamiento\n",
    "        start += (max_len - overlap)\n",
    "    return chunks\n"
   ]
  }
 ],
 "metadata": {
  "application/vnd.databricks.v1+notebook": {
   "computePreferences": null,
   "dashboards": [],
   "environmentMetadata": {
    "base_environment": "",
    "environment_version": "2"
   },
   "inputWidgetPreferences": null,
   "language": "python",
   "notebookMetadata": {
    "pythonIndentUnit": 4
   },
   "notebookName": "utils",
   "widgets": {}
  },
  "language_info": {
   "name": "python"
  }
 },
 "nbformat": 4,
 "nbformat_minor": 0
}
