{
 "cells": [
  {
   "cell_type": "code",
   "execution_count": 0,
   "metadata": {
    "application/vnd.databricks.v1+cell": {
     "cellMetadata": {
      "byteLimit": 2048000,
      "rowLimit": 10000
     },
     "inputWidgets": {},
     "nuid": "07ab966b-e23d-4d66-b82e-798366d44bc0",
     "showTitle": false,
     "tableResultSettingsMap": {},
     "title": ""
    }
   },
   "outputs": [],
   "source": [
    "%run ./utils"
   ]
  },
  {
   "cell_type": "code",
   "execution_count": 0,
   "metadata": {
    "application/vnd.databricks.v1+cell": {
     "cellMetadata": {
      "byteLimit": 2048000,
      "rowLimit": 10000
     },
     "inputWidgets": {},
     "nuid": "a27e5c8c-7de0-43b7-8041-649d5edb15d6",
     "showTitle": false,
     "tableResultSettingsMap": {},
     "title": ""
    }
   },
   "outputs": [],
   "source": [
    "%pip uninstall -y numpy spacy es_core_news_sm PyPDF2 langdetect"
   ]
  },
  {
   "cell_type": "code",
   "execution_count": 0,
   "metadata": {
    "application/vnd.databricks.v1+cell": {
     "cellMetadata": {
      "byteLimit": 2048000,
      "rowLimit": 10000
     },
     "inputWidgets": {},
     "nuid": "f051fe22-d194-46dd-b0ca-06439afb532b",
     "showTitle": false,
     "tableResultSettingsMap": {},
     "title": ""
    }
   },
   "outputs": [],
   "source": [
    "dbutils.library.restartPython()"
   ]
  },
  {
   "cell_type": "code",
   "execution_count": 0,
   "metadata": {
    "application/vnd.databricks.v1+cell": {
     "cellMetadata": {
      "byteLimit": 2048000,
      "rowLimit": 10000
     },
     "inputWidgets": {},
     "nuid": "0044c86b-58f7-4af7-81f6-3c3d35f1e829",
     "showTitle": false,
     "tableResultSettingsMap": {},
     "title": ""
    }
   },
   "outputs": [],
   "source": [
    "%pip install numpy==1.24.3\n",
    "%pip install spacy==3.5.0\n",
    "%pip install es-core-news-sm==3.1.0\n",
    "%pip install PyPDF2==3.0.1\n",
    "%pip install langdetect==1.0.9"
   ]
  },
  {
   "cell_type": "code",
   "execution_count": 0,
   "metadata": {
    "application/vnd.databricks.v1+cell": {
     "cellMetadata": {
      "byteLimit": 2048000,
      "rowLimit": 10000
     },
     "inputWidgets": {},
     "nuid": "0397b2c8-ee07-4376-875a-df86102e9260",
     "showTitle": false,
     "tableResultSettingsMap": {},
     "title": ""
    }
   },
   "outputs": [],
   "source": [
    "dbutils.library.restartPython()"
   ]
  },
  {
   "cell_type": "code",
   "execution_count": 0,
   "metadata": {
    "application/vnd.databricks.v1+cell": {
     "cellMetadata": {
      "byteLimit": 2048000,
      "rowLimit": 10000
     },
     "inputWidgets": {},
     "nuid": "7c9bc63e-22c4-4666-982c-97ecc62f5e60",
     "showTitle": false,
     "tableResultSettingsMap": {},
     "title": ""
    }
   },
   "outputs": [],
   "source": [
    "# celda clave con las versiones compatibles\n",
    "import numpy, spacy, es_core_news_sm, PyPDF2\n",
    "print(\"numpy:\", numpy.__version__)\n",
    "print(\"spaCy:\", spacy.__version__)\n",
    "print(\"es_core_news_sm:\", es_core_news_sm.__version__)\n",
    "print(\"PyPDF2:\", PyPDF2.__version__)"
   ]
  },
  {
   "cell_type": "code",
   "execution_count": 0,
   "metadata": {
    "application/vnd.databricks.v1+cell": {
     "cellMetadata": {
      "byteLimit": 2048000,
      "rowLimit": 10000
     },
     "inputWidgets": {},
     "nuid": "2be8ba2c-414b-4a1e-aeb4-aafb0a601853",
     "showTitle": false,
     "tableResultSettingsMap": {},
     "title": ""
    }
   },
   "outputs": [],
   "source": [
    "# 1. Widgets de entrada/salida\n",
    "\n",
    "input_path = \"/Volumes/kyndryl/default/archivos/web_service_sap_pipeline.pdf\"\n",
    "output_dir = \"/Volumes/kyndryl/default/archivos/\"\n",
    "\n",
    "# 2. Convierte rutas DBFS a rutas locales (/dbfs/…) para Python estándar\n",
    "def to_local(path: str) -> str:\n",
    "    return path.replace(\"dbfs:/\", \"/dbfs/\") if path.startswith(\"dbfs:/\") else path\n",
    "\n",
    "local_pdf     = to_local(input_path)\n",
    "local_out_dir = to_local(output_dir)\n",
    "\n",
    "import os, json\n",
    "os.makedirs(local_out_dir, exist_ok=True)\n",
    "\n",
    "# 3. Leer el PDF con PyPDF2\n",
    "import PyPDF2\n",
    "reader    = PyPDF2.PdfReader(local_pdf)\n",
    "full_text = \"\\n\".join(page.extract_text() or \"\" for page in reader.pages)\n",
    "\n",
    "# 4. Chunking con solapamiento\n",
    "def chunk_text(text, max_len=5000, overlap=500):\n",
    "    chunks, start = [], 0\n",
    "    while start < len(text):\n",
    "        chunks.append(text[start:start+max_len])\n",
    "        start += max_len - overlap\n",
    "    return chunks\n",
    "\n",
    "#chunks = chunk_text(full_text)\n",
    "chunks = [page.extract_text() or \"\" for page in reader.pages]\n",
    "\n",
    "# 5. Carga de spaCy (descarga on-demand)\n",
    "import spacy\n",
    "from spacy.cli import download as spacy_download\n",
    "\n",
    "model_name = \"es_core_news_sm\"\n",
    "try:\n",
    "    nlp = spacy.load(model_name)\n",
    "except OSError:\n",
    "    spacy_download(model_name)\n",
    "    nlp = spacy.load(model_name)\n",
    "\n",
    "# 6. Enriquecimiento: detección de idioma + entidades\n",
    "from langdetect import detect\n",
    "docs = []\n",
    "base_id = os.path.splitext(os.path.basename(local_pdf))[0]\n",
    "\n",
    "for idx, txt in enumerate(chunks):\n",
    "    lang = detect(txt) if txt.strip() else \"und\"\n",
    "    doc_spacy = nlp(txt)\n",
    "    entities = [{\"text\": e.text, \"label\": e.label_} for e in doc_spacy.ents]\n",
    "    docs.append({\n",
    "        \"id\":         f\"{base_id}_{idx}\",\n",
    "        \"sourceId\":   base_id,\n",
    "        \"chunkIndex\": idx,\n",
    "        \"language\":   lang,\n",
    "        \"text\":       txt,\n",
    "        \"entities\":   entities\n",
    "    })\n",
    "\n",
    "# 7. Serializar y guardar el JSON en DBFS\n",
    "output_path = os.path.join(local_out_dir, f\"{base_id}.json\")\n",
    "with open(output_path, \"w\", encoding=\"utf-8\") as f:\n",
    "    json.dump(docs, f, ensure_ascii=False, indent=2)\n",
    "\n",
    "print(f\"✓ JSON generado en: {output_path}\")\n"
   ]
  }
 ],
 "metadata": {
  "application/vnd.databricks.v1+notebook": {
   "computePreferences": null,
   "dashboards": [],
   "environmentMetadata": {
    "base_environment": "",
    "environment_version": "2"
   },
   "inputWidgetPreferences": null,
   "language": "python",
   "notebookMetadata": {
    "pythonIndentUnit": 4
   },
   "notebookName": "ntb_read_pdf_volumes",
   "widgets": {}
  },
  "language_info": {
   "name": "python"
  }
 },
 "nbformat": 4,
 "nbformat_minor": 0
}
