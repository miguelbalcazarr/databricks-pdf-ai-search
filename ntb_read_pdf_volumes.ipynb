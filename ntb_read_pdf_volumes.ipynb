{
 "cells": [
  {
   "cell_type": "code",
   "execution_count": 0,
   "metadata": {
    "application/vnd.databricks.v1+cell": {
     "cellMetadata": {
      "byteLimit": 2048000,
      "rowLimit": 10000
     },
     "inputWidgets": {},
     "nuid": "07ab966b-e23d-4d66-b82e-798366d44bc0",
     "showTitle": false,
     "tableResultSettingsMap": {},
     "title": ""
    },
    "jupyter": {
     "outputs_hidden": true
    }
   },
   "outputs": [],
   "source": [
    "%run ./utils"
   ]
  },
  {
   "cell_type": "code",
   "execution_count": 0,
   "metadata": {
    "application/vnd.databricks.v1+cell": {
     "cellMetadata": {
      "byteLimit": 2048000,
      "rowLimit": 10000
     },
     "inputWidgets": {},
     "nuid": "7c9bc63e-22c4-4666-982c-97ecc62f5e60",
     "showTitle": false,
     "tableResultSettingsMap": {},
     "title": ""
    }
   },
   "outputs": [],
   "source": [
    "# celda clave con las versiones compatibles\n",
    "\n",
    "print(\"numpy:\", numpy.__version__)\n",
    "print(\"spaCy:\", spacy.__version__)\n",
    "print(\"es_core_news_sm:\", es_core_news_sm.__version__)\n",
    "print(\"PyPDF2:\", PyPDF2.__version__)"
   ]
  },
  {
   "cell_type": "code",
   "execution_count": 0,
   "metadata": {
    "application/vnd.databricks.v1+cell": {
     "cellMetadata": {
      "byteLimit": 2048000,
      "rowLimit": 10000
     },
     "inputWidgets": {},
     "nuid": "2be8ba2c-414b-4a1e-aeb4-aafb0a601853",
     "showTitle": false,
     "tableResultSettingsMap": {},
     "title": ""
    }
   },
   "outputs": [],
   "source": [
    "# 1. Widgets de entrada/salida\n",
    "input_path = \"/Volumes/kyndryl/default/archivos/web_service_sap_pipeline.pdf\"\n",
    "output_dir = \"/Volumes/kyndryl/default/archivos/\"\n",
    "\n",
    "# 2. Leer el PDF con PyPDF2\n",
    "reader    = PyPDF2.PdfReader(input_path)\n",
    "full_text = \"\\n\".join(page.extract_text() or \"\" for page in reader.pages)\n",
    "\n",
    "\n",
    "# 3. Chunking con solapamiento\n",
    "chunks = [page.extract_text() or \"\" for page in reader.pages]\n",
    "\n",
    "# 4. Carga de spaCy (descarga on-demand)\n",
    "model_name = \"es_core_news_sm\"\n",
    "try:\n",
    "    nlp = spacy.load(model_name)\n",
    "except OSError:\n",
    "    spacy_download(model_name)\n",
    "    nlp = spacy.load(model_name)\n",
    "\n",
    "# 5. Enriquecimiento: detección de idioma + entidades\n",
    "docs = []\n",
    "base_id = os.path.splitext(os.path.basename(input_path))[0]\n",
    "\n",
    "for idx, txt in enumerate(chunks):\n",
    "    lang = detect(txt) if txt.strip() else \"und\"\n",
    "    doc_spacy = nlp(txt)\n",
    "    entities = [{\"text\": e.text, \"label\": e.label_} for e in doc_spacy.ents]\n",
    "    docs.append({\n",
    "        \"id\":         f\"{base_id}_{idx}\",\n",
    "        \"sourceId\":   base_id,\n",
    "        \"chunkIndex\": idx,\n",
    "        \"language\":   lang,\n",
    "        \"text\":       txt,\n",
    "        \"entities\":   entities\n",
    "    })\n",
    "\n",
    "# 6. Serializar y guardar el JSON en DBFS\n",
    "output_path = os.path.join(output_dir, f\"{base_id}.json\")\n",
    "with open(output_path, \"w\", encoding=\"utf-8\") as f:\n",
    "    json.dump(docs, f, ensure_ascii=False, indent=2)\n",
    "\n",
    "print(f\"JSON generado en: {output_path}\")\n"
   ]
  }
 ],
 "metadata": {
  "application/vnd.databricks.v1+notebook": {
   "computePreferences": null,
   "dashboards": [],
   "environmentMetadata": {
    "base_environment": "",
    "environment_version": "2"
   },
   "inputWidgetPreferences": null,
   "language": "python",
   "notebookMetadata": {
    "pythonIndentUnit": 4
   },
   "notebookName": "ntb_read_pdf_volumes",
   "widgets": {}
  },
  "language_info": {
   "name": "python"
  }
 },
 "nbformat": 4,
 "nbformat_minor": 0
}
